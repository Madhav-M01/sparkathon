{
 "cells": [
  {
   "cell_type": "code",
   "execution_count": 30,
   "id": "3ff7c43d",
   "metadata": {},
   "outputs": [],
   "source": [
    "import numpy as np\n",
    "import pandas as pd\n",
    "import matplotlib.pyplot as plt"
   ]
  },
  {
   "cell_type": "code",
   "execution_count": 31,
   "id": "91278c9e",
   "metadata": {},
   "outputs": [],
   "source": [
    "df = pd.read_csv(\"test_data\\projectData.csv\")"
   ]
  },
  {
   "cell_type": "code",
   "execution_count": 32,
   "id": "bb0246b7",
   "metadata": {},
   "outputs": [
    {
     "data": {
      "text/html": [
       "<div>\n",
       "<style scoped>\n",
       "    .dataframe tbody tr th:only-of-type {\n",
       "        vertical-align: middle;\n",
       "    }\n",
       "\n",
       "    .dataframe tbody tr th {\n",
       "        vertical-align: top;\n",
       "    }\n",
       "\n",
       "    .dataframe thead th {\n",
       "        text-align: right;\n",
       "    }\n",
       "</style>\n",
       "<table border=\"1\" class=\"dataframe\">\n",
       "  <thead>\n",
       "    <tr style=\"text-align: right;\">\n",
       "      <th></th>\n",
       "      <th>ProductID</th>\n",
       "      <th>ProductName</th>\n",
       "      <th>category</th>\n",
       "      <th>subcategory</th>\n",
       "      <th>description</th>\n",
       "      <th>price</th>\n",
       "      <th>discount</th>\n",
       "      <th>discounted_price</th>\n",
       "      <th>Rating</th>\n",
       "      <th>reviews_count</th>\n",
       "      <th>images</th>\n",
       "      <th>tags</th>\n",
       "      <th>available</th>\n",
       "      <th>gender</th>\n",
       "      <th>comment</th>\n",
       "    </tr>\n",
       "  </thead>\n",
       "  <tbody>\n",
       "    <tr>\n",
       "      <th>0</th>\n",
       "      <td>1</td>\n",
       "      <td>Men's Classic Cotton T-Shirt</td>\n",
       "      <td>Clothing</td>\n",
       "      <td>T-Shirts</td>\n",
       "      <td>Premium 100% cotton t-shirt with comfortable f...</td>\n",
       "      <td>2500</td>\n",
       "      <td>10</td>\n",
       "      <td>2250</td>\n",
       "      <td>4.3</td>\n",
       "      <td>156</td>\n",
       "      <td>NaN</td>\n",
       "      <td>t-shirt, cotton, casual, men</td>\n",
       "      <td>TRUE</td>\n",
       "      <td>male</td>\n",
       "      <td>NaN</td>\n",
       "    </tr>\n",
       "    <tr>\n",
       "      <th>1</th>\n",
       "      <td>2</td>\n",
       "      <td>Women's Floral Print T-Shirt</td>\n",
       "      <td>Clothing</td>\n",
       "      <td>T-Shirts</td>\n",
       "      <td>Stylish floral print t-shirt made from soft co...</td>\n",
       "      <td>2200</td>\n",
       "      <td>15</td>\n",
       "      <td>1870</td>\n",
       "      <td>4.5</td>\n",
       "      <td>89</td>\n",
       "      <td>NaN</td>\n",
       "      <td>t-shirt, floral, women, casual</td>\n",
       "      <td>TRUE</td>\n",
       "      <td>female</td>\n",
       "      <td>NaN</td>\n",
       "    </tr>\n",
       "    <tr>\n",
       "      <th>2</th>\n",
       "      <td>3</td>\n",
       "      <td>Men's Striped Polo T-Shirt</td>\n",
       "      <td>Clothing</td>\n",
       "      <td>T-Shirts</td>\n",
       "      <td>Classic striped polo t-shirt with collar and t...</td>\n",
       "      <td>3200</td>\n",
       "      <td>20</td>\n",
       "      <td>2560</td>\n",
       "      <td>4.2</td>\n",
       "      <td>234</td>\n",
       "      <td>NaN</td>\n",
       "      <td>polo, striped, men, casual</td>\n",
       "      <td>TRUE</td>\n",
       "      <td>male</td>\n",
       "      <td>NaN</td>\n",
       "    </tr>\n",
       "    <tr>\n",
       "      <th>3</th>\n",
       "      <td>4</td>\n",
       "      <td>Women's V-Neck Basic T-Shirt</td>\n",
       "      <td>Clothing</td>\n",
       "      <td>T-Shirts</td>\n",
       "      <td>Essential v-neck t-shirt in soft jersey fabric...</td>\n",
       "      <td>1800</td>\n",
       "      <td>12</td>\n",
       "      <td>1584</td>\n",
       "      <td>4.4</td>\n",
       "      <td>312</td>\n",
       "      <td>NaN</td>\n",
       "      <td>v-neck, basic, women, essential</td>\n",
       "      <td>TRUE</td>\n",
       "      <td>female</td>\n",
       "      <td>NaN</td>\n",
       "    </tr>\n",
       "    <tr>\n",
       "      <th>4</th>\n",
       "      <td>5</td>\n",
       "      <td>Men's Graphic Print T-Shirt</td>\n",
       "      <td>Clothing</td>\n",
       "      <td>T-Shirts</td>\n",
       "      <td>Trendy graphic print t-shirt with modern desig...</td>\n",
       "      <td>2700</td>\n",
       "      <td>18</td>\n",
       "      <td>2214</td>\n",
       "      <td>4.1</td>\n",
       "      <td>128</td>\n",
       "      <td>NaN</td>\n",
       "      <td>graphic, print, men, trendy</td>\n",
       "      <td>TRUE</td>\n",
       "      <td>male</td>\n",
       "      <td>NaN</td>\n",
       "    </tr>\n",
       "  </tbody>\n",
       "</table>\n",
       "</div>"
      ],
      "text/plain": [
       "   ProductID                   ProductName  category subcategory  \\\n",
       "0          1  Men's Classic Cotton T-Shirt  Clothing    T-Shirts   \n",
       "1          2  Women's Floral Print T-Shirt  Clothing    T-Shirts   \n",
       "2          3    Men's Striped Polo T-Shirt  Clothing    T-Shirts   \n",
       "3          4  Women's V-Neck Basic T-Shirt  Clothing    T-Shirts   \n",
       "4          5   Men's Graphic Print T-Shirt  Clothing    T-Shirts   \n",
       "\n",
       "                                         description  price  discount  \\\n",
       "0  Premium 100% cotton t-shirt with comfortable f...   2500        10   \n",
       "1  Stylish floral print t-shirt made from soft co...   2200        15   \n",
       "2  Classic striped polo t-shirt with collar and t...   3200        20   \n",
       "3  Essential v-neck t-shirt in soft jersey fabric...   1800        12   \n",
       "4  Trendy graphic print t-shirt with modern desig...   2700        18   \n",
       "\n",
       "   discounted_price  Rating  reviews_count images  \\\n",
       "0              2250     4.3            156    NaN   \n",
       "1              1870     4.5             89    NaN   \n",
       "2              2560     4.2            234    NaN   \n",
       "3              1584     4.4            312    NaN   \n",
       "4              2214     4.1            128    NaN   \n",
       "\n",
       "                              tags available  gender  comment  \n",
       "0     t-shirt, cotton, casual, men      TRUE    male      NaN  \n",
       "1   t-shirt, floral, women, casual      TRUE  female      NaN  \n",
       "2       polo, striped, men, casual      TRUE    male      NaN  \n",
       "3  v-neck, basic, women, essential      TRUE  female      NaN  \n",
       "4      graphic, print, men, trendy      TRUE    male      NaN  "
      ]
     },
     "execution_count": 32,
     "metadata": {},
     "output_type": "execute_result"
    }
   ],
   "source": [
    "df.head()"
   ]
  },
  {
   "cell_type": "code",
   "execution_count": 33,
   "id": "5a002399",
   "metadata": {},
   "outputs": [
    {
     "name": "stdout",
     "output_type": "stream",
     "text": [
      "<class 'pandas.core.frame.DataFrame'>\n",
      "RangeIndex: 79 entries, 0 to 78\n",
      "Data columns (total 15 columns):\n",
      " #   Column            Non-Null Count  Dtype  \n",
      "---  ------            --------------  -----  \n",
      " 0   ProductID         79 non-null     int64  \n",
      " 1   ProductName       79 non-null     object \n",
      " 2   category          79 non-null     object \n",
      " 3   subcategory       79 non-null     object \n",
      " 4   description       79 non-null     object \n",
      " 5   price             79 non-null     int64  \n",
      " 6   discount          79 non-null     int64  \n",
      " 7   discounted_price  79 non-null     int64  \n",
      " 8   Rating            79 non-null     float64\n",
      " 9   reviews_count     79 non-null     int64  \n",
      " 10  images            50 non-null     object \n",
      " 11  tags              79 non-null     object \n",
      " 12  available         79 non-null     object \n",
      " 13  gender            79 non-null     object \n",
      " 14  comment           0 non-null      float64\n",
      "dtypes: float64(2), int64(5), object(8)\n",
      "memory usage: 9.4+ KB\n"
     ]
    }
   ],
   "source": [
    "df.info()"
   ]
  },
  {
   "cell_type": "code",
   "execution_count": 34,
   "id": "d3ea0e89",
   "metadata": {},
   "outputs": [
    {
     "data": {
      "text/plain": [
       "ProductID           79\n",
       "ProductName         79\n",
       "category            79\n",
       "subcategory         79\n",
       "description         79\n",
       "price               79\n",
       "discount            79\n",
       "discounted_price    79\n",
       "Rating              79\n",
       "reviews_count       79\n",
       "images              79\n",
       "tags                79\n",
       "available           79\n",
       "gender              79\n",
       "comment             79\n",
       "dtype: int64"
      ]
     },
     "execution_count": 34,
     "metadata": {},
     "output_type": "execute_result"
    }
   ],
   "source": [
    "df.isna().count()"
   ]
  },
  {
   "cell_type": "code",
   "execution_count": 35,
   "id": "73143c89",
   "metadata": {},
   "outputs": [],
   "source": [
    "df.fillna('', inplace=True)\n",
    "df['text'] = df['tags'] + ' ' + df['category'] + ' ' + df['subcategory'] + ' ' + df['description']"
   ]
  },
  {
   "cell_type": "code",
   "execution_count": 36,
   "id": "866f4865",
   "metadata": {},
   "outputs": [],
   "source": [
    "from sklearn.feature_extraction.text import TfidfVectorizer\n",
    "from sklearn.metrics.pairwise import cosine_similarity\n",
    "\n",
    "tfidf = TfidfVectorizer(stop_words = 'english')\n",
    "tfidf_matrix = tfidf.fit_transform(df['text'])\n",
    "\n",
    "cosine_sim = cosine_similarity(tfidf_matrix, tfidf_matrix)\n",
    "\n",
    "def recommend_content(product_id, top_n=5):\n",
    "    if product_id not in df['ProductID'].values:\n",
    "        return f\"Product ID {product_id} not found in the dataset\"\n",
    "    \n",
    "    index = df[df['ProductID'] == product_id].index[0]\n",
    "    sim_score = list(enumerate(cosine_sim[index]))\n",
    "    sim_score = sorted(sim_score, key=lambda x : x[1], reverse=True)[1 : top_n+1]\n",
    "    similar_indices = [i[0] for i in sim_score]\n",
    "    print(similar_indices)\n",
    "    return df.iloc[similar_indices][['ProductID', 'ProductName', 'category', 'Rating']] "
   ]
  },
  {
   "cell_type": "code",
   "execution_count": 37,
   "id": "555f6f67",
   "metadata": {},
   "outputs": [],
   "source": [
    "def recommend_popular(top_n=5, by='rating'):\n",
    "    if by not in df.columns:\n",
    "        return f\"Column '{by}' not found in dataset.\"\n",
    "    return df.sort_values(by=by, ascending=False).head(top_n)[['ProductID', 'ProductName', 'category', by]]"
   ]
  },
  {
   "cell_type": "code",
   "execution_count": 38,
   "id": "86b8882f",
   "metadata": {},
   "outputs": [],
   "source": [
    "def recommend_by_rule(product_id, price_margin=1000):\n",
    "    product_rows = df[df['ProductID'] == product_id]\n",
    "\n",
    "    if product_rows.empty:\n",
    "        return f\"Product ID {product_id} not found in the dataset.\"\n",
    "\n",
    "    product = product_rows.iloc[0]\n",
    "\n",
    "    similar = df[\n",
    "        (df['category'] == product['category']) &\n",
    "        (df['gender'] == product['gender']) &\n",
    "        (abs(df['price'] - product['price']) <= price_margin) &\n",
    "        (df['ProductID'] != product_id)\n",
    "    ]\n",
    "\n",
    "    if similar.empty:\n",
    "        return f\"No similar products found for Product ID {product_id}.\"\n",
    "\n",
    "    return similar[['ProductID', 'ProductName', 'category', 'price', 'gender']].head(5)\n"
   ]
  },
  {
   "cell_type": "code",
   "execution_count": 39,
   "id": "70045680",
   "metadata": {},
   "outputs": [
    {
     "name": "stderr",
     "output_type": "stream",
     "text": [
      "c:\\Users\\ASUS\\AppData\\Local\\Programs\\Python\\Python38\\lib\\site-packages\\sklearn\\cluster\\_kmeans.py:1416: FutureWarning: The default value of `n_init` will change from 10 to 'auto' in 1.4. Set the value of `n_init` explicitly to suppress the warning\n",
      "  super()._check_params_vs_input(X, default_n_init=10)\n"
     ]
    }
   ],
   "source": [
    "from sklearn.cluster import KMeans\n",
    "from sklearn.preprocessing import StandardScaler\n",
    "\n",
    "# Step 1: Select features\n",
    "features = df[['price', 'discount', 'Rating']]  # adjust as needed\n",
    "\n",
    "# Step 2: Normalize features\n",
    "scaler = StandardScaler()\n",
    "scaled_features = scaler.fit_transform(features)\n",
    "\n",
    "# Step 3: Apply clustering\n",
    "kmeans = KMeans(n_clusters=5, random_state=42)\n",
    "df['cluster'] = kmeans.fit_predict(scaled_features)\n"
   ]
  },
  {
   "cell_type": "code",
   "execution_count": 40,
   "id": "88e043d7",
   "metadata": {},
   "outputs": [],
   "source": [
    "def recommend_from_cluster(product_id, top_n=5):\n",
    "    product_rows = df[df['ProductID'] == product_id]\n",
    "    if product_rows.empty:\n",
    "        return f\"Product ID {product_id} not found.\"\n",
    "\n",
    "    product = product_rows.iloc[0]\n",
    "    cluster_group = df[\n",
    "        (df['cluster'] == product['cluster']) & \n",
    "        (df['ProductID'] != product_id)\n",
    "    ]\n",
    "\n",
    "    if cluster_group.empty:\n",
    "        return f\"No similar products in cluster for Product ID {product_id}.\"\n",
    "\n",
    "    return cluster_group[['ProductID', 'ProductName', 'category', 'cluster']].head(top_n)\n"
   ]
  },
  {
   "cell_type": "code",
   "execution_count": 41,
   "id": "7127784e",
   "metadata": {},
   "outputs": [
    {
     "name": "stdout",
     "output_type": "stream",
     "text": [
      "[67, 24, 12, 61, 11]\n",
      "    ProductID                          ProductName  category  Rating\n",
      "67         69                Women's Puffer Jacket  Clothing     4.6\n",
      "24         26                  Women's Ankle Boots     Shoes     4.5\n",
      "12         14  Women's Striped Long Sleeve T-Shirt  Clothing     4.4\n",
      "61         63                   Men's Denim Jacket  Clothing     4.3\n",
      "11         13         Men's Vintage Washed T-Shirt  Clothing     4.3\n",
      "    ProductID              ProductName  category  Rating\n",
      "64         66      Women's Trench Coat  Clothing     4.7\n",
      "54         56      Women's Silk Blouse  Clothing     4.7\n",
      "45         47       Women's Yoga Pants  Clothing     4.7\n",
      "59         61     Men's Leather Jacket  Clothing     4.7\n",
      "33         35  Men's Chronograph Watch   Watches     4.7\n",
      "   ProductID                   ProductName  category  price gender\n",
      "0          1  Men's Classic Cotton T-Shirt  Clothing   2500   male\n",
      "2          3    Men's Striped Polo T-Shirt  Clothing   3200   male\n",
      "4          5   Men's Graphic Print T-Shirt  Clothing   2700   male\n",
      "6          7      Men's Muscle Fit T-Shirt  Clothing   2900   male\n",
      "8          9          Men's Henley T-Shirt  Clothing   3500   male\n",
      "    ProductID                          ProductName  category  cluster\n",
      "5           6            Women's Oversized T-Shirt  Clothing        4\n",
      "10         12           Women's Scoop Neck T-Shirt  Clothing        4\n",
      "12         14  Women's Striped Long Sleeve T-Shirt  Clothing        4\n",
      "13         15   Men's Athletic Performance T-Shirt  Clothing        4\n",
      "16         18          Women's Embroidered T-Shirt  Clothing        4\n"
     ]
    }
   ],
   "source": [
    "valid_id = df['ProductID'].sample(1).values[0] \n",
    "print(recommend_content(valid_id, 5))\n",
    "print(recommend_popular(5, by='Rating'))\n",
    "print(recommend_by_rule(valid_id))\n",
    "print(recommend_from_cluster(valid_id))"
   ]
  },
  {
   "cell_type": "code",
   "execution_count": 42,
   "id": "5ff6353d",
   "metadata": {},
   "outputs": [
    {
     "name": "stdout",
     "output_type": "stream",
     "text": [
      "[28, 0, 27, 52, 43]\n",
      "    ProductID                   ProductName  category  Rating\n",
      "28         30      Women's Slip-On Sneakers     Shoes     4.4\n",
      "0           1  Men's Classic Cotton T-Shirt  Clothing     4.3\n",
      "27         29              Men's Boat Shoes     Shoes     4.2\n",
      "52         54             Men's Linen Shirt  Clothing     4.4\n",
      "43         45             Men's Linen Pants  Clothing     4.1\n"
     ]
    }
   ],
   "source": [
    "print(recommend_content(23))"
   ]
  },
  {
   "cell_type": "code",
   "execution_count": 43,
   "id": "61bc506d",
   "metadata": {},
   "outputs": [
    {
     "name": "stdout",
     "output_type": "stream",
     "text": [
      "Pickle file saved at recommendation_models.pkl\n"
     ]
    }
   ],
   "source": [
    "import pickle\n",
    "\n",
    "# Build your assets dictionary — include only what's needed for recommendations\n",
    "recommendation_assets = {\n",
    "    \"df\": df,\n",
    "    \"tfidf\": tfidf,\n",
    "    \"tfidf_matrix\": tfidf_matrix,\n",
    "    \"cosine_sim\": cosine_sim,\n",
    "    \"kmeans\": kmeans\n",
    "}\n",
    "\n",
    "# Save the pickle file in the desired location\n",
    "with open(\"recommendation_models.pkl\", \"wb\") as f:\n",
    "    pickle.dump(recommendation_assets, f)\n",
    "\n",
    "print(\"Pickle file saved at recommendation_models.pkl\")\n"
   ]
  }
 ],
 "metadata": {
  "kernelspec": {
   "display_name": "Python 3",
   "language": "python",
   "name": "python3"
  },
  "language_info": {
   "codemirror_mode": {
    "name": "ipython",
    "version": 3
   },
   "file_extension": ".py",
   "mimetype": "text/x-python",
   "name": "python",
   "nbconvert_exporter": "python",
   "pygments_lexer": "ipython3",
   "version": "3.8.0"
  }
 },
 "nbformat": 4,
 "nbformat_minor": 5
}
